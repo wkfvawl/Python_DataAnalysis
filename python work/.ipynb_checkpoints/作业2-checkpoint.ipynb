{
 "cells": [
  {
   "cell_type": "markdown",
   "metadata": {},
   "source": [
    "# 第二次课作业"
   ]
  },
  {
   "cell_type": "code",
   "execution_count": 2,
   "metadata": {},
   "outputs": [],
   "source": [
    "import numpy as np"
   ]
  },
  {
   "cell_type": "markdown",
   "metadata": {},
   "source": [
    "（1）创建一个1到10的数组，然后逆序输出。"
   ]
  },
  {
   "cell_type": "code",
   "execution_count": 2,
   "metadata": {},
   "outputs": [
    {
     "data": {
      "text/plain": [
       "array([10,  9,  8,  7,  6,  5,  4,  3,  2,  1])"
      ]
     },
     "execution_count": 2,
     "metadata": {},
     "output_type": "execute_result"
    }
   ],
   "source": [
    "# 用arange生成整数序列\n",
    "# 切片\n",
    "a = np.arange(1,11)\n",
    "a[::-1]"
   ]
  },
  {
   "cell_type": "markdown",
   "metadata": {},
   "source": [
    "（2）创建一个长度为20的全1数组，然后变成一个4×5的二维矩阵并转置。"
   ]
  },
  {
   "cell_type": "code",
   "execution_count": 13,
   "metadata": {},
   "outputs": [
    {
     "name": "stdout",
     "output_type": "stream",
     "text": [
      "[[1 1 1 1]\n",
      " [1 1 1 1]\n",
      " [1 1 1 1]\n",
      " [1 1 1 1]\n",
      " [1 1 1 1]]\n"
     ]
    },
    {
     "data": {
      "text/plain": [
       "(4, 5)"
      ]
     },
     "execution_count": 13,
     "metadata": {},
     "output_type": "execute_result"
    }
   ],
   "source": [
    "# b = np.ones(20,dtype=int) #第一种方式 使用np.ones函数生成\n",
    "b = np.array([1]*20) #第二种方式 使用*复制得到全1列表\n",
    "b.shape = 4,5# shape进行二维数组转换，改变b本身\n",
    "print(b.T) #转置，改变b本身\n",
    "b.shape"
   ]
  },
  {
   "cell_type": "markdown",
   "metadata": {},
   "source": [
    "（3）创建一个3x3x3的随机数组。\n",
    "(提示: np.random.random)"
   ]
  },
  {
   "cell_type": "code",
   "execution_count": 19,
   "metadata": {},
   "outputs": [
    {
     "data": {
      "text/plain": [
       "array([[[0.84102144, 0.01904443, 0.02714987],\n",
       "        [0.50408213, 0.20409899, 0.24039212],\n",
       "        [0.98049559, 0.48208157, 0.16672167]],\n",
       "\n",
       "       [[0.81599632, 0.13697   , 0.01066008],\n",
       "        [0.9276884 , 0.70938479, 0.74115816],\n",
       "        [0.58168763, 0.44876583, 0.54963288]],\n",
       "\n",
       "       [[0.27401477, 0.09054681, 0.56171829],\n",
       "        [0.54644949, 0.21505261, 0.88281817],\n",
       "        [0.12218308, 0.14123911, 0.36345839]]])"
      ]
     },
     "execution_count": 19,
     "metadata": {},
     "output_type": "execute_result"
    }
   ],
   "source": [
    "b = np.random.random((3,3,3))# 3*3*3\n",
    "b"
   ]
  },
  {
   "cell_type": "code",
   "execution_count": 20,
   "metadata": {},
   "outputs": [
    {
     "data": {
      "text/plain": [
       "array([[[19, 26,  4],\n",
       "        [13,  2, 15],\n",
       "        [ 5,  4, 11]],\n",
       "\n",
       "       [[15,  6,  8],\n",
       "        [ 2, 12, 25],\n",
       "        [ 0, 12, 16]],\n",
       "\n",
       "       [[ 4,  0, 18],\n",
       "        [21,  8, 23],\n",
       "        [19, 24,  8]]])"
      ]
     },
     "execution_count": 20,
     "metadata": {},
     "output_type": "execute_result"
    }
   ],
   "source": [
    "# randint(起点,终点,个数)\n",
    "c = np.random.randint(27,size=(3,3,3))#使用size参数\n",
    "c"
   ]
  },
  {
   "cell_type": "markdown",
   "metadata": {},
   "source": [
    "（4）从1到10中随机选取10个数，构成一个长度为10的数组，并将其排序。获取其最大值最小值，求和，求方差。"
   ]
  },
  {
   "cell_type": "code",
   "execution_count": 22,
   "metadata": {},
   "outputs": [
    {
     "name": "stdout",
     "output_type": "stream",
     "text": [
      "排序: [ 2  4  5  6  6  7  8  8 10 10]\n",
      "最大值: 10\n",
      "最小值: 2\n",
      "求和: 66\n",
      "平方差: 5.84\n"
     ]
    }
   ],
   "source": [
    "c = np.random.randint(1,11,10)#注意 左闭右开原则\n",
    "print('排序:',np.sort(c))\n",
    "print('最大值:',max(c))\n",
    "print('最小值:',min(c))\n",
    "print('求和:',sum(c))\n",
    "print('平方差:',np.var(c))"
   ]
  },
  {
   "cell_type": "markdown",
   "metadata": {},
   "source": [
    "（5）从1到10中随机选取10个数，构成一个长度为10的数组，选出其中的奇数。"
   ]
  },
  {
   "cell_type": "code",
   "execution_count": 37,
   "metadata": {},
   "outputs": [
    {
     "name": "stdout",
     "output_type": "stream",
     "text": [
      "[ 8  2  3  3  1  3  1 10  9  4]\n",
      "奇数: [3 3 1 3 1 9]\n"
     ]
    }
   ],
   "source": [
    "c = np.random.randint(1,11,size=10)\n",
    "print(c)\n",
    "c = c[c%2==1]\n",
    "print('奇数:',c)"
   ]
  },
  {
   "cell_type": "markdown",
   "metadata": {},
   "source": [
    "（6）生成0到100，差为5的一个等差数列，然后将数据类型转化为整数。"
   ]
  },
  {
   "cell_type": "code",
   "execution_count": 38,
   "metadata": {},
   "outputs": [
    {
     "data": {
      "text/plain": [
       "array([  0,   5,  10,  15,  20,  25,  30,  35,  40,  45,  50,  55,  60,\n",
       "        65,  70,  75,  80,  85,  90,  95, 100])"
      ]
     },
     "execution_count": 38,
     "metadata": {},
     "output_type": "execute_result"
    }
   ],
   "source": [
    "a=np.arange(0,101,5,dtype=int)\n",
    "a"
   ]
  },
  {
   "cell_type": "markdown",
   "metadata": {},
   "source": [
    "（7）从1到10中随机选取10个数，大于3和小于8的取负数。"
   ]
  },
  {
   "cell_type": "code",
   "execution_count": 33,
   "metadata": {
    "scrolled": true
   },
   "outputs": [
    {
     "name": "stdout",
     "output_type": "stream",
     "text": [
      "[ 8  4  6 10  8  5  8  7  6  1]\n",
      "[ 8 -4 -6 10  8 -5  8 -7 -6  1]\n"
     ]
    }
   ],
   "source": [
    "d = np.random.randint(1,11,10)\n",
    "print(d)\n",
    "d[(d>3)&(d<8)]*=-1\n",
    "print(d)"
   ]
  },
  {
   "cell_type": "markdown",
   "metadata": {},
   "source": [
    "（8）在数组[1, 2, 3, 4, 5]中相邻两个数字中间插入1个0。"
   ]
  },
  {
   "cell_type": "code",
   "execution_count": 10,
   "metadata": {},
   "outputs": [
    {
     "data": {
      "text/plain": [
       "array([1, 0, 2, 0, 3, 0, 4, 0, 5])"
      ]
     },
     "execution_count": 10,
     "metadata": {},
     "output_type": "execute_result"
    }
   ],
   "source": [
    "a = np.array([1, 2, 3, 4, 5])\n",
    "b = np.zeros(9, dtype = int)\n",
    "b[::2] = a\n",
    "b"
   ]
  },
  {
   "cell_type": "markdown",
   "metadata": {},
   "source": [
    "（9）新建一个5乘5的随机二位数组，交换其中两行？比如交换第一二行。"
   ]
  },
  {
   "cell_type": "code",
   "execution_count": 3,
   "metadata": {},
   "outputs": [
    {
     "name": "stdout",
     "output_type": "stream",
     "text": [
      "[[76 42 65 64 15]\n",
      " [83 19 64 37 28]\n",
      " [31 51 68 75 93]\n",
      " [99 76 59 31 70]\n",
      " [93 16 66 65 86]]\n"
     ]
    },
    {
     "data": {
      "text/plain": [
       "array([[83, 19, 64, 37, 28],\n",
       "       [76, 42, 65, 64, 15],\n",
       "       [31, 51, 68, 75, 93],\n",
       "       [99, 76, 59, 31, 70],\n",
       "       [93, 16, 66, 65, 86]])"
      ]
     },
     "execution_count": 3,
     "metadata": {},
     "output_type": "execute_result"
    }
   ],
   "source": [
    "d = np.random.randint(10,100,size=(5,5))\n",
    "print(d)\n",
    "# 方法1\n",
    "# tmp = np.copy(d[0])\n",
    "# d[0] = d[1]\n",
    "# d[1] = tmp\n",
    "# d\n",
    "# 方法2 花式索引\n",
    "d[[1, 0, 2, 3, 4]]"
   ]
  },
  {
   "cell_type": "markdown",
   "metadata": {},
   "source": [
    "（10）把一个10\\*2的随机生成的笛卡尔坐标转换成极坐标。"
   ]
  },
  {
   "cell_type": "code",
   "execution_count": 135,
   "metadata": {},
   "outputs": [
    {
     "name": "stdout",
     "output_type": "stream",
     "text": [
      "[[0.77086573 0.48129953]\n",
      " [0.88268669 0.87901735]\n",
      " [0.15137411 0.13117552]\n",
      " [0.0685051  0.8789686 ]\n",
      " [0.90394967 0.66559156]\n",
      " [0.75305892 0.43478946]\n",
      " [0.43446389 0.06339448]\n",
      " [0.10764376 0.29821808]\n",
      " [0.21991525 0.09395826]\n",
      " [0.02946069 0.77801685]]\n",
      "[0.90878117 1.24571557 0.20030262 0.88163413 1.1225583  0.86956289\n",
      " 0.43906461 0.31705079 0.23914614 0.77857443] \n",
      " [0.55814064 0.78331533 0.71403269 1.49301551 0.63468492 0.52360942\n",
      " 0.14489174 1.22439424 0.40377283 1.53294802]\n"
     ]
    }
   ],
   "source": [
    "Z = np.random.random((10, 2))\n",
    "print(Z)\n",
    "x,y = Z[:,0],Z[:,1]\n",
    "r = np.sqrt(x**2+y**2)\n",
    "cita = np.arctan2(y,x)\n",
    "print(r,\"\\n\",cita)"
   ]
  },
  {
   "cell_type": "markdown",
   "metadata": {},
   "source": [
    "（11）创建一个长度为10并且除了第五个值为1其余的值为2的向量。"
   ]
  },
  {
   "cell_type": "code",
   "execution_count": 4,
   "metadata": {},
   "outputs": [
    {
     "data": {
      "text/plain": [
       "array([2, 2, 2, 2, 1, 2, 2, 2, 2, 2])"
      ]
     },
     "execution_count": 4,
     "metadata": {},
     "output_type": "execute_result"
    }
   ],
   "source": [
    "Z = np.ones(10,dtype=int)*2\n",
    "Z[4] = 1\n",
    "Z"
   ]
  },
  {
   "cell_type": "markdown",
   "metadata": {},
   "source": [
    "（12）创建一个长度为10的随机向量，并求其累计和。"
   ]
  },
  {
   "cell_type": "code",
   "execution_count": 41,
   "metadata": {},
   "outputs": [
    {
     "name": "stdout",
     "output_type": "stream",
     "text": [
      "[0.27473117 0.7771464  0.54912848 0.40078439 0.71458693 0.83242763\n",
      " 0.53674269 0.37445731 0.95137286 0.60653212]\n"
     ]
    },
    {
     "data": {
      "text/plain": [
       "array([0.27473117, 1.05187757, 1.60100605, 2.00179043, 2.71637736,\n",
       "       3.54880499, 4.08554768, 4.46000499, 5.41137785, 6.01790997])"
      ]
     },
     "execution_count": 41,
     "metadata": {},
     "output_type": "execute_result"
    }
   ],
   "source": [
    "a = np.random.randint(1, 10, 10)\n",
    "a.cumsum()"
   ]
  },
  {
   "cell_type": "markdown",
   "metadata": {},
   "source": [
    "（13）将数组中的所有奇数替换成-1。"
   ]
  },
  {
   "cell_type": "code",
   "execution_count": 154,
   "metadata": {},
   "outputs": [
    {
     "name": "stdout",
     "output_type": "stream",
     "text": [
      "[ 4 15  5  7 16  4  1  7  6  8 10  5  2 14 15  6  9  5  1 14]\n"
     ]
    },
    {
     "data": {
      "text/plain": [
       "array([ 4, -1, -1, -1, 16,  4, -1, -1,  6,  8, 10, -1,  2, 14, -1,  6, -1,\n",
       "       -1, -1, 14])"
      ]
     },
     "execution_count": 154,
     "metadata": {},
     "output_type": "execute_result"
    }
   ],
   "source": [
    "d = np.random.randint(1,20,size=20)\n",
    "print(d)\n",
    "d[d%2==1]=-1\n",
    "d"
   ]
  },
  {
   "cell_type": "markdown",
   "metadata": {},
   "source": [
    "（14）构造两个4乘3的二维数组，按照3种方法进行连接？"
   ]
  },
  {
   "cell_type": "code",
   "execution_count": 6,
   "metadata": {
    "scrolled": true
   },
   "outputs": [
    {
     "name": "stdout",
     "output_type": "stream",
     "text": [
      "[[66 57 92]\n",
      " [38 16 36]\n",
      " [18 78 82]\n",
      " [69 61 94]]\n",
      "[[59 24 84]\n",
      " [14 55 43]\n",
      " [57 28 48]\n",
      " [66 11 62]]\n"
     ]
    }
   ],
   "source": [
    "A = np.random.randint(10,100,size=(4,3))\n",
    "print(A)\n",
    "B = np.random.randint(10,100,size=(4,3))\n",
    "print(B)"
   ]
  },
  {
   "cell_type": "code",
   "execution_count": 7,
   "metadata": {},
   "outputs": [
    {
     "data": {
      "text/plain": [
       "array([[66, 57, 92],\n",
       "       [38, 16, 36],\n",
       "       [18, 78, 82],\n",
       "       [69, 61, 94],\n",
       "       [59, 24, 84],\n",
       "       [14, 55, 43],\n",
       "       [57, 28, 48],\n",
       "       [66, 11, 62]])"
      ]
     },
     "execution_count": 7,
     "metadata": {},
     "output_type": "execute_result"
    }
   ],
   "source": [
    "# 垂直（按照行顺序）的把数组给堆叠起来 vertical stack\n",
    "np.vstack((A,B))"
   ]
  },
  {
   "cell_type": "code",
   "execution_count": 8,
   "metadata": {},
   "outputs": [
    {
     "data": {
      "text/plain": [
       "array([[66, 57, 92, 59, 24, 84],\n",
       "       [38, 16, 36, 14, 55, 43],\n",
       "       [18, 78, 82, 57, 28, 48],\n",
       "       [69, 61, 94, 66, 11, 62]])"
      ]
     },
     "execution_count": 8,
     "metadata": {},
     "output_type": "execute_result"
    }
   ],
   "source": [
    "# 水平(按列顺序)把数组给堆叠起来，与vstack()函数正好相反 horizontal stack\n",
    "np.hstack((A,B))"
   ]
  },
  {
   "cell_type": "code",
   "execution_count": 9,
   "metadata": {},
   "outputs": [
    {
     "data": {
      "text/plain": [
       "array([[[66, 59],\n",
       "        [57, 24],\n",
       "        [92, 84]],\n",
       "\n",
       "       [[38, 14],\n",
       "        [16, 55],\n",
       "        [36, 43]],\n",
       "\n",
       "       [[18, 57],\n",
       "        [78, 28],\n",
       "        [82, 48]],\n",
       "\n",
       "       [[69, 66],\n",
       "        [61, 11],\n",
       "        [94, 62]]])"
      ]
     },
     "execution_count": 9,
     "metadata": {},
     "output_type": "execute_result"
    }
   ],
   "source": [
    "# 将列表中的数组沿深度方向进行拼接 deep stack\n",
    "np.dstack((A,B))"
   ]
  },
  {
   "cell_type": "markdown",
   "metadata": {},
   "source": [
    "（15）获取数组 a 和 b 中的共同项（索引位置相同，值也相同）。\n",
    "a = np.array([1,2,3,2,3,4,3,4,5,6])，b = np.array([7,2,10,2,7,4,9,4,9,8])"
   ]
  },
  {
   "cell_type": "code",
   "execution_count": 36,
   "metadata": {},
   "outputs": [
    {
     "data": {
      "text/plain": [
       "array([2, 2, 4, 4])"
      ]
     },
     "execution_count": 36,
     "metadata": {},
     "output_type": "execute_result"
    }
   ],
   "source": [
    "a = np.array([1,2,3,2,3,4,3,4,5,6])\n",
    "b = np.array([7,2,10,2,7,4,9,4,9,8])\n",
    "\n",
    "# c = a-b\n",
    "# a[np.where(c==0)]\n",
    "a[a==b]"
   ]
  },
  {
   "cell_type": "markdown",
   "metadata": {},
   "source": [
    "（16）从数组 a 中提取 5 和 10 之间的所有项。a=np.array([7,2,10,2,7,4,9,4,9,8])"
   ]
  },
  {
   "cell_type": "code",
   "execution_count": 35,
   "metadata": {},
   "outputs": [
    {
     "data": {
      "text/plain": [
       "array([7, 7, 9, 9, 8])"
      ]
     },
     "execution_count": 35,
     "metadata": {},
     "output_type": "execute_result"
    }
   ],
   "source": [
    "a=np.array([7,2,10,2,7,4,9,4,9,8])\n",
    "a[(a>5)&(a<10)]"
   ]
  }
 ],
 "metadata": {
  "kernelspec": {
   "display_name": "Python 3",
   "language": "python",
   "name": "python3"
  },
  "language_info": {
   "codemirror_mode": {
    "name": "ipython",
    "version": 3
   },
   "file_extension": ".py",
   "mimetype": "text/x-python",
   "name": "python",
   "nbconvert_exporter": "python",
   "pygments_lexer": "ipython3",
   "version": "3.8.3"
  }
 },
 "nbformat": 4,
 "nbformat_minor": 2
}
